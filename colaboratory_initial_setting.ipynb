{
  "nbformat": 4,
  "nbformat_minor": 0,
  "metadata": {
    "colab": {
      "name": "colaboratory_initial_setting.ipynb",
      "version": "0.3.2",
      "provenance": []
    },
    "kernelspec": {
      "name": "python3",
      "display_name": "Python 3"
    }
  },
  "cells": [
    {
      "metadata": {
        "id": "WMLXQP94ksQF",
        "colab_type": "text"
      },
      "cell_type": "markdown",
      "source": [
        "# Setting"
      ]
    },
    {
      "metadata": {
        "id": "JYJPF70PH3wU",
        "colab_type": "code",
        "colab": {
          "base_uri": "https://localhost:8080/",
          "height": 52
        },
        "outputId": "76bfb5b5-f3aa-4fdb-866f-fe9abc74c32b"
      },
      "cell_type": "code",
      "source": [
        "!pip install -q PyGitHub\n",
        "\n",
        "from github import Github, GithubException\n",
        "import nbformat"
      ],
      "execution_count": 1,
      "outputs": [
        {
          "output_type": "stream",
          "text": [
            "\u001b[?25l\r\u001b[K    0% |▏                               | 10kB 17.0MB/s eta 0:00:01\r\u001b[K    0% |▎                               | 20kB 1.9MB/s eta 0:00:02\r\u001b[K    1% |▍                               | 30kB 2.8MB/s eta 0:00:02\r\u001b[K    1% |▌                               | 40kB 1.8MB/s eta 0:00:02\r\u001b[K    1% |▋                               | 51kB 2.2MB/s eta 0:00:02\r\u001b[K    2% |▊                               | 61kB 2.6MB/s eta 0:00:02\r\u001b[K    2% |▉                               | 71kB 3.0MB/s eta 0:00:01\r\u001b[K    2% |█                               | 81kB 3.4MB/s eta 0:00:01\r\u001b[K    3% |█                               | 92kB 3.8MB/s eta 0:00:01\r\u001b[K    3% |█▏                              | 102kB 2.9MB/s eta 0:00:01\r\u001b[K    3% |█▎                              | 112kB 2.9MB/s eta 0:00:01\r\u001b[K    4% |█▍                              | 122kB 4.1MB/s eta 0:00:01\r\u001b[K    4% |█▌                              | 133kB 4.1MB/s eta 0:00:01\r\u001b[K    4% |█▋                              | 143kB 7.8MB/s eta 0:00:01\r\u001b[K    5% |█▊                              | 153kB 7.9MB/s eta 0:00:01\r\u001b[K    5% |█▉                              | 163kB 7.9MB/s eta 0:00:01\r\u001b[K    6% |██                              | 174kB 7.8MB/s eta 0:00:01\r\u001b[K    6% |██                              | 184kB 7.8MB/s eta 0:00:01\r\u001b[K    6% |██▏                             | 194kB 7.8MB/s eta 0:00:01\r\u001b[K    7% |██▎                             | 204kB 43.4MB/s eta 0:00:01\r\u001b[K    7% |██▍                             | 215kB 8.6MB/s eta 0:00:01\r\u001b[K    7% |██▌                             | 225kB 8.6MB/s eta 0:00:01\r\u001b[K    8% |██▋                             | 235kB 8.6MB/s eta 0:00:01\r\u001b[K    8% |██▊                             | 245kB 8.6MB/s eta 0:00:01\r\u001b[K    8% |██▉                             | 256kB 8.7MB/s eta 0:00:01\r\u001b[K    9% |███                             | 266kB 8.4MB/s eta 0:00:01\r\u001b[K    9% |███                             | 276kB 8.6MB/s eta 0:00:01\r\u001b[K    9% |███▏                            | 286kB 8.7MB/s eta 0:00:01\r\u001b[K    10% |███▎                            | 296kB 8.6MB/s eta 0:00:01\r\u001b[K    10% |███▍                            | 307kB 8.8MB/s eta 0:00:01\r\u001b[K    11% |███▌                            | 317kB 53.7MB/s eta 0:00:01\r\u001b[K    11% |███▋                            | 327kB 54.0MB/s eta 0:00:01\r\u001b[K    11% |███▊                            | 337kB 53.8MB/s eta 0:00:01\r\u001b[K    12% |███▉                            | 348kB 47.1MB/s eta 0:00:01\r\u001b[K    12% |████                            | 358kB 46.6MB/s eta 0:00:01\r\u001b[K    12% |████                            | 368kB 53.9MB/s eta 0:00:01\r\u001b[K    13% |████▏                           | 378kB 54.0MB/s eta 0:00:01\r\u001b[K    13% |████▎                           | 389kB 54.1MB/s eta 0:00:01\r\u001b[K    13% |████▍                           | 399kB 10.0MB/s eta 0:00:01\r\u001b[K    14% |████▌                           | 409kB 9.8MB/s eta 0:00:01\r\u001b[K    14% |████▋                           | 419kB 9.8MB/s eta 0:00:01\r\u001b[K    14% |████▊                           | 430kB 9.8MB/s eta 0:00:01\r\u001b[K    15% |████▉                           | 440kB 9.8MB/s eta 0:00:01\r\u001b[K    15% |█████                           | 450kB 9.9MB/s eta 0:00:01\r\u001b[K    15% |█████                           | 460kB 9.8MB/s eta 0:00:01\r\u001b[K    16% |█████▎                          | 471kB 9.9MB/s eta 0:00:01\r\u001b[K    16% |█████▍                          | 481kB 9.9MB/s eta 0:00:01\r\u001b[K    17% |█████▌                          | 491kB 9.9MB/s eta 0:00:01\r\u001b[K    17% |█████▋                          | 501kB 52.2MB/s eta 0:00:01\r\u001b[K    17% |█████▊                          | 512kB 52.9MB/s eta 0:00:01\r\u001b[K    18% |█████▉                          | 522kB 53.2MB/s eta 0:00:01\r\u001b[K    18% |██████                          | 532kB 54.0MB/s eta 0:00:01\r\u001b[K    18% |██████                          | 542kB 54.3MB/s eta 0:00:01\r\u001b[K    19% |██████▏                         | 552kB 61.8MB/s eta 0:00:01\r\u001b[K    19% |██████▎                         | 563kB 62.0MB/s eta 0:00:01\r\u001b[K    19% |██████▍                         | 573kB 59.8MB/s eta 0:00:01\r\u001b[K    20% |██████▌                         | 583kB 59.3MB/s eta 0:00:01\r\u001b[K    20% |██████▋                         | 593kB 58.6MB/s eta 0:00:01\r\u001b[K    20% |██████▊                         | 604kB 58.4MB/s eta 0:00:01\r\u001b[K    21% |██████▉                         | 614kB 65.2MB/s eta 0:00:01\r\u001b[K    21% |███████                         | 624kB 63.7MB/s eta 0:00:01\r\u001b[K    22% |███████                         | 634kB 62.7MB/s eta 0:00:01\r\u001b[K    22% |███████▏                        | 645kB 62.0MB/s eta 0:00:01\r\u001b[K    22% |███████▎                        | 655kB 60.8MB/s eta 0:00:01\r\u001b[K    23% |███████▍                        | 665kB 45.9MB/s eta 0:00:01\r\u001b[K    23% |███████▌                        | 675kB 45.9MB/s eta 0:00:01\r\u001b[K    23% |███████▋                        | 686kB 46.5MB/s eta 0:00:01\r\u001b[K    24% |███████▊                        | 696kB 46.9MB/s eta 0:00:01\r\u001b[K    24% |███████▉                        | 706kB 47.1MB/s eta 0:00:01\r\u001b[K    24% |████████                        | 716kB 47.1MB/s eta 0:00:01\r\u001b[K    25% |████████                        | 727kB 47.6MB/s eta 0:00:01\r\u001b[K    25% |████████▏                       | 737kB 47.5MB/s eta 0:00:01\r\u001b[K    25% |████████▎                       | 747kB 48.0MB/s eta 0:00:01\r\u001b[K    26% |████████▍                       | 757kB 48.1MB/s eta 0:00:01\r\u001b[K    26% |████████▌                       | 768kB 65.9MB/s eta 0:00:01\r\u001b[K    26% |████████▋                       | 778kB 67.7MB/s eta 0:00:01\r\u001b[K    27% |████████▊                       | 788kB 64.5MB/s eta 0:00:01\r\u001b[K    27% |████████▉                       | 798kB 64.2MB/s eta 0:00:01\r\u001b[K    28% |█████████                       | 808kB 16.6MB/s eta 0:00:01\r\u001b[K    28% |█████████                       | 819kB 16.3MB/s eta 0:00:01\r\u001b[K    28% |█████████▏                      | 829kB 16.3MB/s eta 0:00:01\r\u001b[K    29% |█████████▎                      | 839kB 16.3MB/s eta 0:00:01\r\u001b[K    29% |█████████▍                      | 849kB 16.3MB/s eta 0:00:01\r\u001b[K    29% |█████████▌                      | 860kB 15.4MB/s eta 0:00:01\r\u001b[K    30% |█████████▋                      | 870kB 15.3MB/s eta 0:00:01\r\u001b[K    30% |█████████▊                      | 880kB 15.3MB/s eta 0:00:01\r\u001b[K    30% |█████████▉                      | 890kB 15.4MB/s eta 0:00:01\r\u001b[K    31% |██████████                      | 901kB 15.4MB/s eta 0:00:01\r\u001b[K    31% |██████████                      | 911kB 48.7MB/s eta 0:00:01\r\u001b[K    31% |██████████▏                     | 921kB 51.1MB/s eta 0:00:01\r\u001b[K    32% |██████████▍                     | 931kB 52.5MB/s eta 0:00:01\r\u001b[K    32% |██████████▌                     | 942kB 52.8MB/s eta 0:00:01\r\u001b[K    33% |██████████▋                     | 952kB 52.3MB/s eta 0:00:01\r\u001b[K    33% |██████████▊                     | 962kB 64.5MB/s eta 0:00:01\r\u001b[K    33% |██████████▉                     | 972kB 64.4MB/s eta 0:00:01\r\u001b[K    34% |███████████                     | 983kB 63.2MB/s eta 0:00:01\r\u001b[K    34% |███████████                     | 993kB 62.3MB/s eta 0:00:01\r\u001b[K    34% |███████████▏                    | 1.0MB 62.6MB/s eta 0:00:01\r\u001b[K    35% |███████████▎                    | 1.0MB 63.9MB/s eta 0:00:01\r\u001b[K    35% |███████████▍                    | 1.0MB 64.0MB/s eta 0:00:01\r\u001b[K    35% |███████████▌                    | 1.0MB 62.2MB/s eta 0:00:01\r\u001b[K    36% |███████████▋                    | 1.0MB 62.5MB/s eta 0:00:01\r\u001b[K    36% |███████████▊                    | 1.1MB 62.6MB/s eta 0:00:01\r\u001b[K    36% |███████████▉                    | 1.1MB 61.3MB/s eta 0:00:01\r\u001b[K    37% |████████████                    | 1.1MB 63.6MB/s eta 0:00:01\r\u001b[K    37% |████████████                    | 1.1MB 64.4MB/s eta 0:00:01\r\u001b[K    37% |████████████▏                   | 1.1MB 51.0MB/s eta 0:00:01\r\u001b[K    38% |████████████▎                   | 1.1MB 50.6MB/s eta 0:00:01\r\u001b[K    38% |████████████▍                   | 1.1MB 50.4MB/s eta 0:00:01\r\u001b[K    39% |████████████▌                   | 1.1MB 51.2MB/s eta 0:00:01\r\u001b[K    39% |████████████▋                   | 1.1MB 51.8MB/s eta 0:00:01\r\u001b[K    39% |████████████▊                   | 1.1MB 51.5MB/s eta 0:00:01\r\u001b[K    40% |████████████▉                   | 1.2MB 52.0MB/s eta 0:00:01\r\u001b[K    40% |█████████████                   | 1.2MB 51.5MB/s eta 0:00:01\r\u001b[K    40% |█████████████                   | 1.2MB 51.4MB/s eta 0:00:01\r\u001b[K    41% |█████████████▏                  | 1.2MB 50.7MB/s eta 0:00:01\r\u001b[K    41% |█████████████▎                  | 1.2MB 63.3MB/s eta 0:00:01\r\u001b[K    41% |█████████████▍                  | 1.2MB 63.8MB/s eta 0:00:01\r\u001b[K    42% |█████████████▌                  | 1.2MB 63.4MB/s eta 0:00:01\r\u001b[K    42% |█████████████▋                  | 1.2MB 61.9MB/s eta 0:00:01\r\u001b[K    42% |█████████████▊                  | 1.2MB 62.0MB/s eta 0:00:01\r\u001b[K    43% |█████████████▉                  | 1.2MB 62.1MB/s eta 0:00:01\r\u001b[K    43% |██████████████                  | 1.3MB 61.3MB/s eta 0:00:01\r\u001b[K    44% |██████████████                  | 1.3MB 60.9MB/s eta 0:00:01\r\u001b[K    44% |██████████████▏                 | 1.3MB 59.9MB/s eta 0:00:01\r\u001b[K    44% |██████████████▎                 | 1.3MB 60.9MB/s eta 0:00:01\r\u001b[K    45% |██████████████▍                 | 1.3MB 61.4MB/s eta 0:00:01\r\u001b[K    45% |██████████████▌                 | 1.3MB 61.0MB/s eta 0:00:01\r\u001b[K    45% |██████████████▋                 | 1.3MB 60.6MB/s eta 0:00:01\r\u001b[K    46% |██████████████▊                 | 1.3MB 60.4MB/s eta 0:00:01\r\u001b[K    46% |██████████████▉                 | 1.3MB 60.9MB/s eta 0:00:01\r\u001b[K    46% |███████████████                 | 1.4MB 59.8MB/s eta 0:00:01\r\u001b[K    47% |███████████████                 | 1.4MB 58.4MB/s eta 0:00:01\r\u001b[K    47% |███████████████▏                | 1.4MB 59.7MB/s eta 0:00:01\r\u001b[K    47% |███████████████▎                | 1.4MB 27.3MB/s eta 0:00:01\r\u001b[K    48% |███████████████▌                | 1.4MB 26.5MB/s eta 0:00:01\r\u001b[K    48% |███████████████▋                | 1.4MB 19.5MB/s eta 0:00:01\r\u001b[K    48% |███████████████▊                | 1.4MB 19.2MB/s eta 0:00:01\r\u001b[K    49% |███████████████▉                | 1.4MB 19.2MB/s eta 0:00:01\r\u001b[K    49% |████████████████                | 1.4MB 19.2MB/s eta 0:00:01\r\u001b[K    50% |████████████████                | 1.4MB 19.1MB/s eta 0:00:01\r\u001b[K    50% |████████████████▏               | 1.5MB 19.2MB/s eta 0:00:01\r\u001b[K    50% |████████████████▎               | 1.5MB 19.2MB/s eta 0:00:01\r\u001b[K    51% |████████████████▍               | 1.5MB 19.2MB/s eta 0:00:01\r\u001b[K    51% |████████████████▌               | 1.5MB 31.2MB/s eta 0:00:01\r\u001b[K    51% |████████████████▋               | 1.5MB 32.1MB/s eta 0:00:01\r\u001b[K    52% |████████████████▊               | 1.5MB 57.5MB/s eta 0:00:01\r\u001b[K    52% |████████████████▉               | 1.5MB 60.6MB/s eta 0:00:01\r\u001b[K    52% |█████████████████               | 1.5MB 59.5MB/s eta 0:00:01\r\u001b[K    53% |█████████████████               | 1.5MB 60.1MB/s eta 0:00:01\r\u001b[K    53% |█████████████████▏              | 1.5MB 60.6MB/s eta 0:00:01\r\u001b[K    53% |█████████████████▎              | 1.6MB 60.0MB/s eta 0:00:01\r\u001b[K    54% |█████████████████▍              | 1.6MB 61.8MB/s eta 0:00:01\r\u001b[K    54% |█████████████████▌              | 1.6MB 62.8MB/s eta 0:00:01\r\u001b[K    55% |█████████████████▋              | 1.6MB 48.7MB/s eta 0:00:01\r\u001b[K    55% |█████████████████▊              | 1.6MB 48.1MB/s eta 0:00:01\r\u001b[K    55% |█████████████████▉              | 1.6MB 48.3MB/s eta 0:00:01\r\u001b[K    56% |██████████████████              | 1.6MB 48.2MB/s eta 0:00:01\r\u001b[K    56% |██████████████████              | 1.6MB 49.5MB/s eta 0:00:01\r\u001b[K    56% |██████████████████▏             | 1.6MB 49.5MB/s eta 0:00:01\r\u001b[K    57% |██████████████████▎             | 1.6MB 50.0MB/s eta 0:00:01\r\u001b[K    57% |██████████████████▍             | 1.7MB 50.1MB/s eta 0:00:01\r\u001b[K    57% |██████████████████▌             | 1.7MB 50.3MB/s eta 0:00:01\r\u001b[K    58% |██████████████████▋             | 1.7MB 50.5MB/s eta 0:00:01\r\u001b[K    58% |██████████████████▊             | 1.7MB 63.9MB/s eta 0:00:01\r\u001b[K    58% |██████████████████▉             | 1.7MB 65.0MB/s eta 0:00:01\r\u001b[K    59% |███████████████████             | 1.7MB 63.8MB/s eta 0:00:01\r\u001b[K    59% |███████████████████             | 1.7MB 63.9MB/s eta 0:00:01\r\u001b[K    59% |███████████████████▏            | 1.7MB 64.2MB/s eta 0:00:01\r\u001b[K    60% |███████████████████▎            | 1.7MB 64.5MB/s eta 0:00:01\r\u001b[K    60% |███████████████████▍            | 1.8MB 62.9MB/s eta 0:00:01\r\u001b[K    61% |███████████████████▌            | 1.8MB 63.0MB/s eta 0:00:01\r\u001b[K    61% |███████████████████▋            | 1.8MB 62.2MB/s eta 0:00:01\r\u001b[K    61% |███████████████████▊            | 1.8MB 62.5MB/s eta 0:00:01\r\u001b[K    62% |███████████████████▉            | 1.8MB 64.2MB/s eta 0:00:01\r\u001b[K    62% |████████████████████            | 1.8MB 64.1MB/s eta 0:00:01\r\u001b[K    62% |████████████████████            | 1.8MB 64.1MB/s eta 0:00:01\r\u001b[K    63% |████████████████████▏           | 1.8MB 64.3MB/s eta 0:00:01\r\u001b[K    63% |████████████████████▎           | 1.8MB 64.4MB/s eta 0:00:01\r\u001b[K    63% |████████████████████▍           | 1.8MB 64.3MB/s eta 0:00:01\r\u001b[K    64% |████████████████████▋           | 1.9MB 65.1MB/s eta 0:00:01\r\u001b[K    64% |████████████████████▊           | 1.9MB 65.1MB/s eta 0:00:01\r\u001b[K    64% |████████████████████▉           | 1.9MB 64.3MB/s eta 0:00:01\r\u001b[K    65% |█████████████████████           | 1.9MB 62.8MB/s eta 0:00:01\r\u001b[K    65% |█████████████████████           | 1.9MB 63.4MB/s eta 0:00:01\r\u001b[K    66% |█████████████████████▏          | 1.9MB 63.8MB/s eta 0:00:01\r\u001b[K    66% |█████████████████████▎          | 1.9MB 64.8MB/s eta 0:00:01\r\u001b[K    66% |█████████████████████▍          | 1.9MB 64.4MB/s eta 0:00:01\r\u001b[K    67% |█████████████████████▌          | 1.9MB 62.9MB/s eta 0:00:01\r\u001b[K    67% |█████████████████████▋          | 1.9MB 63.0MB/s eta 0:00:01\r\u001b[K    67% |█████████████████████▊          | 2.0MB 63.4MB/s eta 0:00:01\r\u001b[K    68% |█████████████████████▉          | 2.0MB 63.7MB/s eta 0:00:01\r\u001b[K    68% |██████████████████████          | 2.0MB 64.6MB/s eta 0:00:01\r\u001b[K    68% |██████████████████████          | 2.0MB 63.4MB/s eta 0:00:01\r\u001b[K    69% |██████████████████████▏         | 2.0MB 59.7MB/s eta 0:00:01\r\u001b[K    69% |██████████████████████▎         | 2.0MB 56.5MB/s eta 0:00:01\r\u001b[K    69% |██████████████████████▍         | 2.0MB 38.8MB/s eta 0:00:01\r\u001b[K    70% |██████████████████████▌         | 2.0MB 39.0MB/s eta 0:00:01\r\u001b[K    70% |██████████████████████▋         | 2.0MB 39.5MB/s eta 0:00:01\r\u001b[K    70% |██████████████████████▊         | 2.0MB 39.6MB/s eta 0:00:01\r\u001b[K    71% |██████████████████████▉         | 2.1MB 40.0MB/s eta 0:00:01\r\u001b[K    71% |███████████████████████         | 2.1MB 39.9MB/s eta 0:00:01\r\u001b[K    72% |███████████████████████         | 2.1MB 40.0MB/s eta 0:00:01\r\u001b[K    72% |███████████████████████▏        | 2.1MB 40.6MB/s eta 0:00:01\r\u001b[K    72% |███████████████████████▎        | 2.1MB 42.0MB/s eta 0:00:01\r\u001b[K    73% |███████████████████████▍        | 2.1MB 44.0MB/s eta 0:00:01\r\u001b[K    73% |███████████████████████▌        | 2.1MB 67.6MB/s eta 0:00:01\r\u001b[K    73% |███████████████████████▋        | 2.1MB 65.1MB/s eta 0:00:01\r\u001b[K    74% |███████████████████████▊        | 2.1MB 65.4MB/s eta 0:00:01\r\u001b[K    74% |███████████████████████▉        | 2.2MB 65.7MB/s eta 0:00:01\r\u001b[K    74% |████████████████████████        | 2.2MB 65.7MB/s eta 0:00:01\r\u001b[K    75% |████████████████████████        | 2.2MB 66.7MB/s eta 0:00:01\r\u001b[K    75% |████████████████████████▏       | 2.2MB 66.4MB/s eta 0:00:01\r\u001b[K    75% |████████████████████████▎       | 2.2MB 67.9MB/s eta 0:00:01\r\u001b[K    76% |████████████████████████▍       | 2.2MB 66.9MB/s eta 0:00:01\r\u001b[K    76% |████████████████████████▌       | 2.2MB 65.0MB/s eta 0:00:01\r\u001b[K    77% |████████████████████████▋       | 2.2MB 65.0MB/s eta 0:00:01\r\u001b[K    77% |████████████████████████▊       | 2.2MB 67.1MB/s eta 0:00:01\r\u001b[K    77% |████████████████████████▉       | 2.2MB 66.6MB/s eta 0:00:01\r\u001b[K    78% |█████████████████████████       | 2.3MB 65.0MB/s eta 0:00:01\r\u001b[K    78% |█████████████████████████       | 2.3MB 61.8MB/s eta 0:00:01\r\u001b[K    78% |█████████████████████████▏      | 2.3MB 61.0MB/s eta 0:00:01\r\u001b[K    79% |█████████████████████████▎      | 2.3MB 60.9MB/s eta 0:00:01\r\u001b[K    79% |█████████████████████████▍      | 2.3MB 60.1MB/s eta 0:00:01\r\u001b[K    79% |█████████████████████████▌      | 2.3MB 61.4MB/s eta 0:00:01\r\u001b[K    80% |█████████████████████████▋      | 2.3MB 62.5MB/s eta 0:00:01\r\u001b[K    80% |█████████████████████████▉      | 2.3MB 61.9MB/s eta 0:00:01\r\u001b[K    80% |██████████████████████████      | 2.3MB 61.7MB/s eta 0:00:01\r\u001b[K    81% |██████████████████████████      | 2.3MB 61.2MB/s eta 0:00:01\r\u001b[K    81% |██████████████████████████▏     | 2.4MB 61.4MB/s eta 0:00:01\r\u001b[K    81% |██████████████████████████▎     | 2.4MB 62.6MB/s eta 0:00:01\r\u001b[K    82% |██████████████████████████▍     | 2.4MB 61.8MB/s eta 0:00:01\r\u001b[K    82% |██████████████████████████▌     | 2.4MB 61.3MB/s eta 0:00:01\r\u001b[K    83% |██████████████████████████▋     | 2.4MB 61.1MB/s eta 0:00:01\r\u001b[K    83% |██████████████████████████▊     | 2.4MB 61.1MB/s eta 0:00:01\r\u001b[K    83% |██████████████████████████▉     | 2.4MB 61.1MB/s eta 0:00:01\r\u001b[K    84% |███████████████████████████     | 2.4MB 61.1MB/s eta 0:00:01\r\u001b[K    84% |███████████████████████████     | 2.4MB 61.6MB/s eta 0:00:01\r\u001b[K    84% |███████████████████████████▏    | 2.4MB 60.8MB/s eta 0:00:01\r\u001b[K    85% |███████████████████████████▎    | 2.5MB 60.3MB/s eta 0:00:01\r\u001b[K    85% |███████████████████████████▍    | 2.5MB 61.4MB/s eta 0:00:01\r\u001b[K    85% |███████████████████████████▌    | 2.5MB 62.4MB/s eta 0:00:01\r\u001b[K    86% |███████████████████████████▋    | 2.5MB 62.8MB/s eta 0:00:01\r\u001b[K    86% |███████████████████████████▊    | 2.5MB 63.1MB/s eta 0:00:01\r\u001b[K    86% |███████████████████████████▉    | 2.5MB 61.3MB/s eta 0:00:01\r\u001b[K    87% |████████████████████████████    | 2.5MB 61.4MB/s eta 0:00:01\r\u001b[K    87% |████████████████████████████    | 2.5MB 61.5MB/s eta 0:00:01\r\u001b[K    88% |████████████████████████████▏   | 2.5MB 60.9MB/s eta 0:00:01\r\u001b[K    88% |████████████████████████████▎   | 2.5MB 61.9MB/s eta 0:00:01\r\u001b[K    88% |████████████████████████████▍   | 2.6MB 29.0MB/s eta 0:00:01\r\u001b[K    89% |████████████████████████████▌   | 2.6MB 28.9MB/s eta 0:00:01\r\u001b[K    89% |████████████████████████████▋   | 2.6MB 23.9MB/s eta 0:00:01\r\u001b[K    89% |████████████████████████████▊   | 2.6MB 23.8MB/s eta 0:00:01\r\u001b[K    90% |████████████████████████████▉   | 2.6MB 23.9MB/s eta 0:00:01\r\u001b[K    90% |█████████████████████████████   | 2.6MB 24.2MB/s eta 0:00:01\r\u001b[K    90% |█████████████████████████████   | 2.6MB 24.3MB/s eta 0:00:01\r\u001b[K    91% |█████████████████████████████▏  | 2.6MB 24.5MB/s eta 0:00:01\r\u001b[K    91% |█████████████████████████████▎  | 2.6MB 24.6MB/s eta 0:00:01\r\u001b[K    91% |█████████████████████████████▍  | 2.7MB 24.7MB/s eta 0:00:01\r\u001b[K    92% |█████████████████████████████▌  | 2.7MB 44.7MB/s eta 0:00:01\r\u001b[K    92% |█████████████████████████████▋  | 2.7MB 44.4MB/s eta 0:00:01\r\u001b[K    92% |█████████████████████████████▊  | 2.7MB 65.9MB/s eta 0:00:01\r\u001b[K    93% |█████████████████████████████▉  | 2.7MB 67.4MB/s eta 0:00:01\r\u001b[K    93% |██████████████████████████████  | 2.7MB 66.5MB/s eta 0:00:01\r\u001b[K    94% |██████████████████████████████  | 2.7MB 66.4MB/s eta 0:00:01\r\u001b[K    94% |██████████████████████████████▏ | 2.7MB 66.0MB/s eta 0:00:01\r\u001b[K    94% |██████████████████████████████▎ | 2.7MB 64.4MB/s eta 0:00:01\r\u001b[K    95% |██████████████████████████████▍ | 2.7MB 64.5MB/s eta 0:00:01\r\u001b[K    95% |██████████████████████████████▌ | 2.8MB 63.9MB/s eta 0:00:01\r\u001b[K    95% |██████████████████████████████▋ | 2.8MB 65.6MB/s eta 0:00:01\r\u001b[K    96% |██████████████████████████████▊ | 2.8MB 65.8MB/s eta 0:00:01\r\u001b[K    96% |███████████████████████████████ | 2.8MB 65.2MB/s eta 0:00:01\r\u001b[K    96% |███████████████████████████████ | 2.8MB 64.3MB/s eta 0:00:01\r\u001b[K    97% |███████████████████████████████▏| 2.8MB 63.5MB/s eta 0:00:01\r\u001b[K    97% |███████████████████████████████▎| 2.8MB 63.4MB/s eta 0:00:01\r\u001b[K    97% |███████████████████████████████▍| 2.8MB 63.2MB/s eta 0:00:01\r\u001b[K    98% |███████████████████████████████▌| 2.8MB 63.6MB/s eta 0:00:01\r\u001b[K    98% |███████████████████████████████▋| 2.8MB 63.9MB/s eta 0:00:01\r\u001b[K    99% |███████████████████████████████▊| 2.9MB 62.5MB/s eta 0:00:01\r\u001b[K    99% |███████████████████████████████▉| 2.9MB 61.5MB/s eta 0:00:01\r\u001b[K    99% |████████████████████████████████| 2.9MB 62.5MB/s eta 0:00:01\r\u001b[K    100% |████████████████████████████████| 2.9MB 7.5MB/s \n",
            "\u001b[?25h  Building wheel for PyGitHub (setup.py) ... \u001b[?25ldone\n",
            "\u001b[?25h"
          ],
          "name": "stdout"
        }
      ]
    },
    {
      "metadata": {
        "id": "RJXnjhJxksAC",
        "colab_type": "code",
        "colab": {}
      },
      "cell_type": "code",
      "source": [
        "access_token = 'xxxxxxxxxxxxxxxxxxxxxxxxxxxxxxxxxxxxxxxx'\n",
        "\n",
        "repository_name = 'ColaboratoryInitialSetting' \n",
        "ipynb_file_name = 'test.ipynb'"
      ],
      "execution_count": 0,
      "outputs": []
    },
    {
      "metadata": {
        "id": "dNap8SyggAbT",
        "colab_type": "text"
      },
      "cell_type": "markdown",
      "source": [
        "# Create repository"
      ]
    },
    {
      "metadata": {
        "id": "JBlYkXXcgG6x",
        "colab_type": "code",
        "outputId": "672e0abb-2567-4d88-9717-a866a7177609",
        "colab": {
          "base_uri": "https://localhost:8080/",
          "height": 34
        }
      },
      "cell_type": "code",
      "source": [
        "github = Github(access_token)\n",
        "user = github.get_user()\n",
        "\n",
        "try:\n",
        "  user.create_repo(repository_name)\n",
        "except GithubException:\n",
        "  print(f'{repository_name} already exists on this account.')"
      ],
      "execution_count": 3,
      "outputs": [
        {
          "output_type": "stream",
          "text": [
            "ColaboratoryInitialSetting already exists on this account.\n"
          ],
          "name": "stdout"
        }
      ]
    },
    {
      "metadata": {
        "id": "2uUYFa0LgKDP",
        "colab_type": "text"
      },
      "cell_type": "markdown",
      "source": [
        "# Create ipynb file"
      ]
    },
    {
      "metadata": {
        "id": "jF2r70p0gPAN",
        "colab_type": "code",
        "colab": {}
      },
      "cell_type": "code",
      "source": [
        "nb = nbformat.v4.new_notebook()\n",
        "\n",
        "title = '# setting'\n",
        "code = \"\"\"\n",
        "%matplotlib inline\n",
        "import matplotlib.pyplot as plt\n",
        "import numpy as np\n",
        "import pandas as pd\n",
        "\"\"\"\n",
        "\n",
        "nb[\"cells\"] = [\n",
        "    nbformat.v4.new_markdown_cell(title),\n",
        "    nbformat.v4.new_code_cell(code)\n",
        "]"
      ],
      "execution_count": 0,
      "outputs": []
    },
    {
      "metadata": {
        "id": "i-MqoBmwgimv",
        "colab_type": "text"
      },
      "cell_type": "markdown",
      "source": [
        "# Upload ipynb file"
      ]
    },
    {
      "metadata": {
        "id": "Jt3mycnMglFD",
        "colab_type": "code",
        "colab": {}
      },
      "cell_type": "code",
      "source": [
        "repo = user.get_repo(repository_name)\n",
        "\n",
        "try:\n",
        "  repo.get_contents(ipynb_file_name)\n",
        "  raise(Exception(f'{ipynb_file_name} already exists in {repository_name}.'))\n",
        "except GithubException as e:\n",
        "  repo.create_file(ipynb_file_name, f'create {ipynb_file_name}', nbformat.writes(nb))"
      ],
      "execution_count": 0,
      "outputs": []
    },
    {
      "metadata": {
        "id": "QAX0iBZzS102",
        "colab_type": "text"
      },
      "cell_type": "markdown",
      "source": [
        "# Display ipynb file"
      ]
    },
    {
      "metadata": {
        "id": "xVIIJRZyIVZT",
        "colab_type": "code",
        "colab": {
          "base_uri": "https://localhost:8080/",
          "height": 52
        },
        "outputId": "5360bc4a-8917-4186-bd71-1563bc34f36d"
      },
      "cell_type": "code",
      "source": [
        "print(f'github: https://github.com/{user.login}/{repository_name}/blob/master/{ipynb_file_name}')\n",
        "print(f'colab:  https://colab.research.google.com/github/{user.login}/{repository_name}/blob/master/{ipynb_file_name}')"
      ],
      "execution_count": 6,
      "outputs": [
        {
          "output_type": "stream",
          "text": [
            "github: https://github.com/calderarie/ColaboratoryInitialSetting/blob/master/test.ipynb\n",
            "colab:  https://colab.research.google.com/github/calderarie/ColaboratoryInitialSetting/blob/master/test.ipynb\n"
          ],
          "name": "stdout"
        }
      ]
    },
    {
      "metadata": {
        "id": "xSnrShJkdGaa",
        "colab_type": "code",
        "colab": {}
      },
      "cell_type": "code",
      "source": [
        ""
      ],
      "execution_count": 0,
      "outputs": []
    }
  ]
}
{
  "nbformat": 4,
  "nbformat_minor": 0,
  "metadata": {
    "colab": {
      "name": "colaboratory_initial_setting.ipynb",
      "version": "0.3.2",
      "provenance": []
    },
    "kernelspec": {
      "name": "python3",
      "display_name": "Python 3"
    }
  },
  "cells": [
    {
      "metadata": {
        "id": "WMLXQP94ksQF",
        "colab_type": "text"
      },
      "cell_type": "markdown",
      "source": [
        "# Setting"
      ]
    },
    {
      "metadata": {
        "id": "JYJPF70PH3wU",
        "colab_type": "code",
        "colab": {}
      },
      "cell_type": "code",
      "source": [
        "!pip install -q PyGitHub\n",
        "\n",
        "from github import Github, GithubException\n",
        "import nbformat"
      ],
      "execution_count": 0,
      "outputs": []
    },
    {
      "metadata": {
        "id": "RJXnjhJxksAC",
        "colab_type": "code",
        "colab": {}
      },
      "cell_type": "code",
      "source": [
        "access_token = 'xxxxxxxxxxxxxxxxxxxxxxxxxxxxxxxxxxxxxxxx'\n",
        "\n",
        "repository_name = 'TestRepository' \n",
        "ipynb_file_name = 'test.ipynb'"
      ],
      "execution_count": 0,
      "outputs": []
    },
    {
      "metadata": {
        "id": "dNap8SyggAbT",
        "colab_type": "text"
      },
      "cell_type": "markdown",
      "source": [
        "# Create repository"
      ]
    },
    {
      "metadata": {
        "id": "JBlYkXXcgG6x",
        "colab_type": "code",
        "colab": {
          "base_uri": "https://localhost:8080/",
          "height": 34
        },
        "outputId": "999a46f3-a9d9-4606-85e2-7f621a9cfedf"
      },
      "cell_type": "code",
      "source": [
        "github = Github(access_token)\n",
        "user = github.get_user()\n",
        "\n",
        "try:\n",
        "  user.create_repo(repository_name)\n",
        "except GithubException:\n",
        "  print(f'{repository_name} already exists on this account.')"
      ],
      "execution_count": 3,
      "outputs": [
        {
          "output_type": "stream",
          "text": [
            "TestRepository already exists on this account.\n"
          ],
          "name": "stdout"
        }
      ]
    },
    {
      "metadata": {
        "id": "2uUYFa0LgKDP",
        "colab_type": "text"
      },
      "cell_type": "markdown",
      "source": [
        "# Create ipynb file"
      ]
    },
    {
      "metadata": {
        "id": "jF2r70p0gPAN",
        "colab_type": "code",
        "colab": {}
      },
      "cell_type": "code",
      "source": [
        "nb = nbformat.v4.new_notebook()\n",
        "\n",
        "title = '# setting'\n",
        "code = \"\"\"\n",
        "%matplotlib inline\n",
        "import matplotlib.pyplot as plt\n",
        "import numpy as np\n",
        "import pandas as pd\n",
        "\"\"\"\n",
        "\n",
        "nb[\"cells\"] = [\n",
        "    nbformat.v4.new_markdown_cell(title),\n",
        "    nbformat.v4.new_code_cell(code)\n",
        "]"
      ],
      "execution_count": 0,
      "outputs": []
    },
    {
      "metadata": {
        "id": "i-MqoBmwgimv",
        "colab_type": "text"
      },
      "cell_type": "markdown",
      "source": [
        "# Upload ipynb file"
      ]
    },
    {
      "metadata": {
        "id": "Jt3mycnMglFD",
        "colab_type": "code",
        "colab": {
          "base_uri": "https://localhost:8080/",
          "height": 242
        },
        "outputId": "c773b36f-6cfd-4fa5-da53-73828b29a12d"
      },
      "cell_type": "code",
      "source": [
        "repo = user.get_repo(repository_name)\n",
        "\n",
        "try:\n",
        "  repo.get_contents(ipynb_file_name)\n",
        "  raise(Exception(f'{ipynb_file_name} already exists in {repository_name}.'))\n",
        "except GithubException as e:\n",
        "  repo.create_file(ipynb_file_name, f'create {ipynb_file_name}', nbformat.writes(nb))"
      ],
      "execution_count": 5,
      "outputs": [
        {
          "output_type": "error",
          "ename": "Exception",
          "evalue": "ignored",
          "traceback": [
            "\u001b[0;31m---------------------------------------------------------------------------\u001b[0m",
            "\u001b[0;31mException\u001b[0m                                 Traceback (most recent call last)",
            "\u001b[0;32m<ipython-input-5-ff02b78d026e>\u001b[0m in \u001b[0;36m<module>\u001b[0;34m()\u001b[0m\n\u001b[1;32m      3\u001b[0m \u001b[0;32mtry\u001b[0m\u001b[0;34m:\u001b[0m\u001b[0;34m\u001b[0m\u001b[0;34m\u001b[0m\u001b[0m\n\u001b[1;32m      4\u001b[0m   \u001b[0mrepo\u001b[0m\u001b[0;34m.\u001b[0m\u001b[0mget_contents\u001b[0m\u001b[0;34m(\u001b[0m\u001b[0mipynb_file_name\u001b[0m\u001b[0;34m)\u001b[0m\u001b[0;34m\u001b[0m\u001b[0;34m\u001b[0m\u001b[0m\n\u001b[0;32m----> 5\u001b[0;31m   \u001b[0;32mraise\u001b[0m\u001b[0;34m(\u001b[0m\u001b[0mException\u001b[0m\u001b[0;34m(\u001b[0m\u001b[0;34mf'{ipynb_file_name} already exists in {repository_name}.'\u001b[0m\u001b[0;34m)\u001b[0m\u001b[0;34m)\u001b[0m\u001b[0;34m\u001b[0m\u001b[0;34m\u001b[0m\u001b[0m\n\u001b[0m\u001b[1;32m      6\u001b[0m \u001b[0;32mexcept\u001b[0m \u001b[0mGithubException\u001b[0m \u001b[0;32mas\u001b[0m \u001b[0me\u001b[0m\u001b[0;34m:\u001b[0m\u001b[0;34m\u001b[0m\u001b[0;34m\u001b[0m\u001b[0m\n\u001b[1;32m      7\u001b[0m   \u001b[0mrepo\u001b[0m\u001b[0;34m.\u001b[0m\u001b[0mcreate_file\u001b[0m\u001b[0;34m(\u001b[0m\u001b[0mipynb_file_name\u001b[0m\u001b[0;34m,\u001b[0m \u001b[0;34mf'create {ipynb_file_name}'\u001b[0m\u001b[0;34m,\u001b[0m \u001b[0mnbformat\u001b[0m\u001b[0;34m.\u001b[0m\u001b[0mwrites\u001b[0m\u001b[0;34m(\u001b[0m\u001b[0mnb\u001b[0m\u001b[0;34m)\u001b[0m\u001b[0;34m)\u001b[0m\u001b[0;34m\u001b[0m\u001b[0;34m\u001b[0m\u001b[0m\n",
            "\u001b[0;31mException\u001b[0m: test.ipynb already exists in TestRepository."
          ]
        }
      ]
    },
    {
      "metadata": {
        "id": "QAX0iBZzS102",
        "colab_type": "text"
      },
      "cell_type": "markdown",
      "source": [
        "# Display ipynb file"
      ]
    },
    {
      "metadata": {
        "id": "xVIIJRZyIVZT",
        "colab_type": "code",
        "colab": {}
      },
      "cell_type": "code",
      "source": [
        "print(f'github: https://github.com/{user.login}/{repository_name}/blob/master/{ipynb_file_name}')\n",
        "print(f'colab:  https://colab.research.google.com/github/{user.login}/{repository_name}/blob/master/{ipynb_file_name}')"
      ],
      "execution_count": 0,
      "outputs": []
    },
    {
      "metadata": {
        "id": "xSnrShJkdGaa",
        "colab_type": "code",
        "colab": {}
      },
      "cell_type": "code",
      "source": [
        ""
      ],
      "execution_count": 0,
      "outputs": []
    }
  ]
}